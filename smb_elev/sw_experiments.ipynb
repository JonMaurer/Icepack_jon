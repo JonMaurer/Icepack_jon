{
 "cells": [
  {
   "cell_type": "markdown",
   "id": "81af427f-65b7-40f0-94f3-8443913e123e",
   "metadata": {},
   "source": [
    "# SW Experiments"
   ]
  },
  {
   "cell_type": "markdown",
   "id": "05b8f7dd-a67a-4d63-902a-76c61e817787",
   "metadata": {},
   "source": [
    "### Experimental variable is da_ds, varying in steps by 1% off each side from a steady state\n",
    "\n",
    "Need:\n",
    "- larger domain/mesh loaded in\n",
    "- smb set up\n",
    "  "
   ]
  },
  {
   "cell_type": "markdown",
   "id": "38c149c1-aaac-4b7d-a7a5-a97a432f1fe5",
   "metadata": {},
   "source": [
    "## Questions\n",
    "- How long does each run need to be?\n",
    "- Does the domain need to run all the way back to the divide?\n",
    "- When do we do the full region?\n",
    "- Should smb be in each timestep or evolve from the initialization?"
   ]
  },
  {
   "cell_type": "code",
   "execution_count": null,
   "id": "67c471a1-bc73-4dd0-9ae0-465644590686",
   "metadata": {},
   "outputs": [],
   "source": [
    "import argparse\n",
    "import subprocess\n",
    "import tqdm\n",
    "import numpy as np\n",
    "from numpy import pi as π\n",
    "import xarray\n",
    "import firedrake\n",
    "from firedrake import assemble, Constant, exp, max_value, inner, grad, dx, ds, dS\n",
    "import icepack\n",
    "from icepack2.constants import (\n",
    "    glen_flow_law as n,\n",
    "    weertman_sliding_law as m,\n",
    "    ice_density as ρ_I,\n",
    "    water_density as ρ_W,\n",
    ")\n",
    "from icepack2 import model"
   ]
  },
  {
   "cell_type": "markdown",
   "id": "98229f71-1f09-42f2-bfdd-3b77b2a27819",
   "metadata": {},
   "source": [
    "### Controls for SMB and time stepping"
   ]
  },
  {
   "cell_type": "code",
   "execution_count": null,
   "id": "3976e624-db5f-436f-86bb-e3b4a3463e58",
   "metadata": {},
   "outputs": [],
   "source": [
    "timesteps_per_year = 1\n",
    "final_time = 4000\n",
    "calving = False # When running to sealevel\n",
    "melt_rate = 3e3\n",
    "mask_smoothing_length = 5e3\n",
    "snes_max_it = 200\n",
    "snes_rtol = 1e-5"
   ]
  },
  {
   "cell_type": "markdown",
   "id": "7c2e3ca3-da82-4b04-92f8-78adc4e0e727",
   "metadata": {},
   "source": [
    "### Read in the starting data"
   ]
  },
  {
   "cell_type": "code",
   "execution_count": null,
   "id": "37daf53a-ed2d-467e-9376-0c98954e7c13",
   "metadata": {},
   "outputs": [],
   "source": [
    "with firedrake.CheckpointFile('mystery-glacier-simulation.h5', \"r\") as chk:\n",
    "    mesh = chk.load_mesh()\n",
    "    q = chk.load_function(mesh, name=\"log_friction\")\n",
    "    τ_c = chk.h5pyfile.attrs[\"mean_stress\"]\n",
    "    u_c = chk.h5pyfile.attrs[\"mean_speed\"]\n",
    "\n",
    "    timesteps = np.array(chk.h5pyfile[\"timesteps\"])\n",
    "    u = chk.load_function(mesh, name=\"velocity\", idx=len(timesteps) - 1)\n",
    "    h = chk.load_function(mesh, name=\"thickness\", idx=len(timesteps) - 1)"
   ]
  },
  {
   "cell_type": "markdown",
   "id": "7d24de98-0fa8-4905-8ed3-6f07cb2651af",
   "metadata": {},
   "source": [
    "### Setting up the space"
   ]
  },
  {
   "cell_type": "code",
   "execution_count": null,
   "id": "eba05d81-d07a-463b-8f53-563351c7b418",
   "metadata": {},
   "outputs": [],
   "source": [
    "Q = firedrake.FunctionSpace(mesh, \"CG\", 2) # Changed from 1\n",
    "Δ = firedrake.FunctionSpace(mesh, \"DG\", 1)\n",
    "V = firedrake.VectorFunctionSpace(mesh, \"CG\", 1) # Changed from 1\n",
    "Σ = firedrake.TensorFunctionSpace(mesh, \"DG\", 0, symmetry=True)\n",
    "T = firedrake.VectorFunctionSpace(mesh, \"DG\", 0)\n",
    "Z = V * Σ * T"
   ]
  },
  {
   "cell_type": "code",
   "execution_count": null,
   "id": "58003700-b35e-4c9a-8488-0ece090a6ac7",
   "metadata": {},
   "outputs": [],
   "source": [
    "u_in = firedrake.project(u, V)\n",
    "q = firedrake.project(q, Q)\n",
    "\n",
    "z = firedrake.Function(Z)\n",
    "z.sub(0).assign(u_in)"
   ]
  },
  {
   "cell_type": "code",
   "execution_count": null,
   "id": "66b35d8c-2efc-425d-a777-cc39dae6bff1",
   "metadata": {},
   "outputs": [],
   "source": [
    "# Read the thickness and bed data\n",
    "bedmachine = xarray.open_dataset(icepack.datasets.fetch_bedmachine_greenland())\n",
    "b = icepack.interpolate(bedmachine[\"bed\"], Q)\n",
    "h = firedrake.project(h, Δ)\n",
    "s = firedrake.project(max_value(b + h, (1 - ρ_I / ρ_W) * h), Δ)"
   ]
  },
  {
   "cell_type": "code",
   "execution_count": null,
   "id": "37e04bc2-7226-4c80-bde5-80546e4f7824",
   "metadata": {},
   "outputs": [],
   "source": [
    "# Set up the momentum balance equation and solve\n",
    "A = icepack.rate_factor(Constant(260))\n",
    "ε_c = Constant(A * τ_c ** n)\n",
    "print(f\"τ_c: {1000 * float(τ_c):.1f} kPa\")\n",
    "print(f\"ε_c: {1000 * float(ε_c):.1f} (m / yr) / km\")\n",
    "print(f\"u_c: {float(u_c):.1f} m / yr\")"
   ]
  },
  {
   "cell_type": "code",
   "execution_count": null,
   "id": "2e21dd0c-ad51-4231-b66a-c129695628ce",
   "metadata": {},
   "outputs": [],
   "source": [
    "fns = [\n",
    "    model.viscous_power,\n",
    "    model.friction_power,\n",
    "    #model.calving_terminus,\n",
    "    model.momentum_balance,\n",
    "]"
   ]
  },
  {
   "cell_type": "code",
   "execution_count": null,
   "id": "f3afba05-50b3-4e51-b9bd-7c2a9e4bb7e1",
   "metadata": {},
   "outputs": [],
   "source": [
    "u, M, τ = firedrake.split(z)\n",
    "fields = {\n",
    "    \"velocity\": u,\n",
    "    \"membrane_stress\": M,\n",
    "    \"basal_stress\": τ,\n",
    "    \"thickness\": h,\n",
    "    \"surface\": s,\n",
    "}\n",
    "\n",
    "h_min = Constant(10.0)\n",
    "rfields = {\n",
    "    \"velocity\": u,\n",
    "    \"membrane_stress\": M,\n",
    "    \"basal_stress\": τ,\n",
    "    \"thickness\": max_value(h_min, h),\n",
    "    \"surface\": s,\n",
    "}\n",
    "\n",
    "rheology = {\n",
    "    \"flow_law_exponent\": n,\n",
    "    \"flow_law_coefficient\": ε_c / τ_c**n,\n",
    "    \"sliding_exponent\": m,\n",
    "    \"sliding_coefficient\": u_c / τ_c**m * exp(m * q),\n",
    "}\n",
    "\n",
    "linear_rheology = {\n",
    "    \"flow_law_exponent\": 1,\n",
    "    \"flow_law_coefficient\": ε_c / τ_c,\n",
    "    \"sliding_exponent\": 1,\n",
    "    \"sliding_coefficient\": u_c / τ_c * exp(q),\n",
    "}"
   ]
  },
  {
   "cell_type": "code",
   "execution_count": null,
   "id": "ff87f9d9-22d3-485e-ae58-16026181f506",
   "metadata": {},
   "outputs": [],
   "source": [
    "L_1 = sum(fn(**rfields, **linear_rheology) for fn in fns)\n",
    "F_1 = firedrake.derivative(L_1, z)\n",
    "J_1 = firedrake.derivative(F_1, z)"
   ]
  },
  {
   "cell_type": "code",
   "execution_count": null,
   "id": "ec3c102e-fecb-441c-8f7e-b1bb5c8a6e59",
   "metadata": {},
   "outputs": [],
   "source": [
    "L = sum(fn(**fields, **rheology) for fn in fns)\n",
    "F = firedrake.derivative(L, z)"
   ]
  },
  {
   "cell_type": "code",
   "execution_count": null,
   "id": "b992ccf6-d989-45bc-b84a-dc83c5825efc",
   "metadata": {},
   "outputs": [],
   "source": [
    "L_r = sum(fn(**rfields, **rheology) for fn in fns)\n",
    "F_r = firedrake.derivative(L_r, z)\n",
    "J_r = firedrake.derivative(F_r, z)\n",
    "α = firedrake.Constant(0.0)\n",
    "J = J_r + α * J_1"
   ]
  },
  {
   "cell_type": "code",
   "execution_count": null,
   "id": "d41fd347-434a-4a25-9733-db7022ea9afe",
   "metadata": {},
   "outputs": [],
   "source": [
    "inflow_ids = [1]\n",
    "bc_in = firedrake.DirichletBC(Z.sub(0), u_in, inflow_ids)\n",
    "outflow_ids = [2]\n",
    "bc_out = firedrake.DirichletBC(Z.sub(0), Constant((0.0, 0.0)), outflow_ids)\n",
    "bcs = [bc_in, bc_out]"
   ]
  },
  {
   "cell_type": "code",
   "execution_count": null,
   "id": "9d1594f3-f0b2-476e-b40d-959ab18a2079",
   "metadata": {},
   "outputs": [],
   "source": [
    "qdegree = int(max(m, n)) + 2\n",
    "problem_params = {\n",
    "    \"form_compiler_parameters\": {\"quadrature_degree\": qdegree},\n",
    "    \"bcs\": bcs,\n",
    "}\n",
    "solver_params = {\n",
    "    \"solver_parameters\": {\n",
    "        \"snes_monitor\": None,\n",
    "        #\"snes_converged_reason\": None,\n",
    "        \"snes_stol\": 0.0,\n",
    "        \"snes_rtol\": 1e-6,\n",
    "        \"snes_linesearch_type\": \"nleqerr\",\n",
    "        \"snes_max_it\": 200,\n",
    "        \"snes_divergence_tolerance\": -1,\n",
    "        \"snes_type\": \"newtonls\",\n",
    "        \"ksp_type\": \"gmres\",\n",
    "        \"pc_type\": \"lu\",\n",
    "        # If the linear solver crashes, try \"umfpack\" instead of \"mumps\"\n",
    "        \"pc_factor_mat_solver_type\": \"mumps\",\n",
    "    },\n",
    "}\n",
    "firedrake.solve(F_1 == 0, z, **problem_params, **solver_params)"
   ]
  },
  {
   "cell_type": "code",
   "execution_count": null,
   "id": "bbf9d859-4988-4810-8927-ab88240d8788",
   "metadata": {},
   "outputs": [],
   "source": [
    "u_problem = firedrake.NonlinearVariationalProblem(F, z, J=J, **problem_params)\n",
    "u_solver = firedrake.NonlinearVariationalSolver(u_problem, **solver_params)\n",
    "u_solver.solve()"
   ]
  },
  {
   "cell_type": "markdown",
   "id": "18f421a5-e364-4877-a983-899723ba22e5",
   "metadata": {},
   "source": [
    "### Setting up SMB Initalization\n",
    "- Is any of this right\n",
    "- Vary ds_ds\n",
    "- batching runs?"
   ]
  },
  {
   "cell_type": "code",
   "execution_count": null,
   "id": "54aae630-ab73-45a2-9ca9-eb89b0785944",
   "metadata": {},
   "outputs": [],
   "source": [
    "da_ds = Constant(2.32 * 1e-3) #2.25\n",
    "\n",
    "a_val = -1.8\n",
    "a_0 = Constant(a_val) #-2.3\n",
    "\n",
    "ela = - a_val / da_ds\n",
    "print(ela)\n",
    "\n",
    "smb = 0.917 * (a_0 + da_ds * s)"
   ]
  },
  {
   "cell_type": "code",
   "execution_count": null,
   "id": "74820335-7b61-4b52-85b4-0a469ce3521d",
   "metadata": {},
   "outputs": [],
   "source": [
    "print(s.dat.data_ro.max())\n",
    "print(s.dat.data_ro.mean())\n",
    "\n",
    "response_time = h.dat.data_ro.mean() / -a_val\n",
    "print(f'Response time is ~{response_time} years')"
   ]
  },
  {
   "cell_type": "code",
   "execution_count": null,
   "id": "c5583721-179b-46b1-b38f-73e8e42a570d",
   "metadata": {},
   "outputs": [],
   "source": [
    "# Create a solver for a smooth ice mask field\n",
    "if calving == True:\n",
    "    α = Constant(args.mask_smoothing_length)\n",
    "    μ = firedrake.Function(Q)\n",
    "    χ = firedrake.conditional(h > 0, 1, 0)\n",
    "    J = 0.5 * ((μ - χ)**2 + α**2 * inner(grad(μ), grad(μ))) * dx\n",
    "    bcs = [\n",
    "        firedrake.DirichletBC(Q, Constant(1.0), (1,)),\n",
    "        firedrake.DirichletBC(Q, Constant(0.0), (3,)),\n",
    "    ]\n",
    "    F = firedrake.derivative(J, μ)\n",
    "    μ_problem = firedrake.NonlinearVariationalProblem(F, μ, bcs)\n",
    "    μ_solver = firedrake.NonlinearVariationalSolver(μ_problem)\n",
    "    μ_solver.solve()"
   ]
  },
  {
   "cell_type": "code",
   "execution_count": null,
   "id": "b75e6fc9-b028-4a31-96a2-3d75a2a1a641",
   "metadata": {},
   "outputs": [],
   "source": [
    "# Create the accumulation/ablation function, which is a sum of SMB and calving\n",
    "# losses (if any)\n",
    "t = Constant(0.0)\n",
    "if calving == True:\n",
    "    m = Constant(args.melt_rate)  # melt rate in m/yr\n",
    "    φ = firedrake.min_value(0, firedrake.cos(2 * π * t))\n",
    "    calving = m * (1 - μ) * φ\n",
    "    a = smb + calving\n",
    "else:\n",
    "    a = smb"
   ]
  },
  {
   "cell_type": "code",
   "execution_count": null,
   "id": "2bd14c8f-026d-43fb-bd3a-3453c8632d59",
   "metadata": {},
   "outputs": [],
   "source": [
    "# Set up the mass balance equation\n",
    "h_n = h.copy(deepcopy=True)\n",
    "h0 = h.copy(deepcopy=True)\n",
    "φ = firedrake.TestFunction(h.function_space())\n",
    "dt = Constant(1.0 / 96)\n",
    "flux_cells = ((h - h_n) / dt * φ - inner(h * u, grad(φ)) - a * φ) * dx\n",
    "ν = firedrake.FacetNormal(mesh)\n",
    "f = h * max_value(0, inner(u, ν))\n",
    "flux_facets = (f(\"+\") - f(\"-\")) * (φ(\"+\") - φ(\"-\")) * dS\n",
    "flux_in = h0 * firedrake.min_value(0, inner(u, ν)) * φ * ds\n",
    "flux_out = h * max_value(0, inner(u, ν)) * φ * ds\n",
    "G = flux_cells + flux_facets + flux_in + flux_out\n",
    "h_problem = firedrake.NonlinearVariationalProblem(G, h)\n",
    "h_solver = firedrake.NonlinearVariationalSolver(h_problem)"
   ]
  },
  {
   "cell_type": "markdown",
   "id": "be113900-56db-48aa-b642-a0328955ff94",
   "metadata": {},
   "source": [
    "### Run the simulation"
   ]
  },
  {
   "cell_type": "code",
   "execution_count": null,
   "id": "16d705e3-a81f-473f-a506-d26b8c7540e6",
   "metadata": {},
   "outputs": [],
   "source": [
    "num_steps = int(final_time * timesteps_per_year) + 1\n",
    "\n",
    "dh_max = np.zeros(num_steps) * np.nan\n",
    "hs = [h.copy(deepcopy=True)]\n",
    "h_c = Constant(5.0)\n",
    "\n",
    "with firedrake.CheckpointFile('mystery-glacier-simulation.h5', \"w\") as chk:\n",
    "    u, M, τ = z.subfunctions\n",
    "    chk.save_function(h, name=\"thickness\", idx=0)\n",
    "    chk.save_function(u, name=\"velocity\", idx=0)\n",
    "    chk.save_function(M, name=\"membrane_stress\", idx=0)\n",
    "    chk.save_function(τ, name=\"basal_stress\", idx=0)\n",
    "    if calving == True:\n",
    "        chk.save_function(μ, name=\"ice_mask\", idx=0)\n",
    "\n",
    "    timesteps = np.linspace(0.0, final_time, num_steps)\n",
    "    for step in tqdm.trange(num_steps):\n",
    "        t.assign(t + dt)\n",
    "        if calving == True:\n",
    "            μ_solver.solve()\n",
    " \n",
    "        h_solver.solve()\n",
    "        h.interpolate(firedrake.conditional(h < h_c, 0, h))\n",
    "        h_n.assign(h)\n",
    "        hs.append(h.copy(deepcopy=True))\n",
    "        dh_max[step] = h.dat.data_ro.max()\n",
    "        \n",
    "        s.interpolate(max_value(b + h, (1 - ρ_I / ρ_W) * h))\n",
    "        u_solver.solve()\n",
    "\n",
    "        # Save the results to disk\n",
    "        u, M, τ = z.subfunctions\n",
    "        chk.save_function(h, name=\"thickness\", idx=step + 1)\n",
    "        chk.save_function(u, name=\"velocity\", idx=step + 1)\n",
    "        chk.save_function(M, name=\"membrane_stress\", idx=step + 1)\n",
    "        chk.save_function(τ, name=\"basal_stress\", idx=step + 1)\n",
    "        if calving == True:\n",
    "            chk.save_function(μ, name=\"ice_mask\", idx=step + 1)\n",
    "\n",
    "    chk.save_function(q, name=\"log_friction\")\n",
    "    chk.h5pyfile.attrs[\"mean_stress\"] = τ_c\n",
    "    chk.h5pyfile.attrs[\"mean_speed\"] = u_c\n",
    "    chk.h5pyfile.create_dataset(\"timesteps\", data=timesteps)"
   ]
  },
  {
   "cell_type": "markdown",
   "id": "a51b9e84-e557-496e-81ae-b8819652e3be",
   "metadata": {},
   "source": [
    "### Pictures because I can't read the raw outputs"
   ]
  },
  {
   "cell_type": "code",
   "execution_count": null,
   "id": "83db4f1a-b518-4204-8b4e-1b17f4d37ac4",
   "metadata": {},
   "outputs": [],
   "source": [
    "# Difference plot \n",
    "δh = firedrake.project(hs[-1] - hs[0], hs[0].function_space())\n",
    "change_max = δh.dat.data_ro.max()\n",
    "change_min = δh.dat.data_ro.min()\n",
    "\n",
    "fig, axes = plt.subplots()\n",
    "axes.set_aspect(\"equal\")\n",
    "colors = firedrake.tripcolor(δh, \n",
    "                             num_sample_points=1, \n",
    "                             shading=\"flat\", \n",
    "                             cmap=\"RdBu\",\n",
    "                             vmin = -300, vmax = 300, \n",
    "                             axes=axes)\n",
    "\n",
    "fig.colorbar(colors);"
   ]
  }
 ],
 "metadata": {
  "kernelspec": {
   "display_name": "firedrake",
   "language": "python",
   "name": "firedrake"
  },
  "language_info": {
   "codemirror_mode": {
    "name": "ipython",
    "version": 3
   },
   "file_extension": ".py",
   "mimetype": "text/x-python",
   "name": "python",
   "nbconvert_exporter": "python",
   "pygments_lexer": "ipython3",
   "version": "3.10.12"
  }
 },
 "nbformat": 4,
 "nbformat_minor": 5
}
